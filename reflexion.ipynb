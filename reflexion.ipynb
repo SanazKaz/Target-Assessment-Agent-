{
 "cells": [
  {
   "cell_type": "code",
   "execution_count": 1,
   "metadata": {},
   "outputs": [
    {
     "name": "stdout",
     "output_type": "stream",
     "text": [
      "Note: you may need to restart the kernel to use updated packages.\n",
      "Note: you may need to restart the kernel to use updated packages.\n"
     ]
    }
   ],
   "source": [
    "%pip install -U --quiet  langgraph langchain_openai\n",
    "%pip install -U --quiet tavily-python"
   ]
  },
  {
   "cell_type": "code",
   "execution_count": 3,
   "metadata": {},
   "outputs": [],
   "source": [
    "import getpass\n",
    "import os\n",
    "# Import things that are needed generically\n",
    "from langchain.pydantic_v1 import BaseModel, Field\n",
    "from langchain.tools import BaseTool, StructuredTool, tool\n",
    "\n",
    "\n",
    "def _set_if_undefined(var: str) -> None:\n",
    "    if os.environ.get(var):\n",
    "        return\n",
    "    os.environ[var] = getpass.getpass(var)\n",
    "\n",
    "\n",
    "# Optional: Configure tracing to visualize and debug the agent\n",
    "_set_if_undefined(\"LANGCHAIN_API_KEY\")\n",
    "os.environ[\"LANGCHAIN_TRACING_V2\"] = \"true\"\n",
    "os.environ[\"LANGCHAIN_PROJECT\"] = \"Reflexion_1\"\n",
    "\n",
    "_set_if_undefined(\"OPENAI_API_KEY\")\n",
    "\n",
    "\n"
   ]
  },
  {
   "cell_type": "code",
   "execution_count": 4,
   "metadata": {},
   "outputs": [],
   "source": [
    "from langchain_community.chat_models import ChatOllama\n",
    "llm = ChatOllama(model=\"llama-7b\")\n",
    "# You could also use OpenAI or another provider\n",
    "# from langchain_openai import ChatOpenAI\n",
    "\n",
    "# llm = ChatOpenAI(model=\"gpt-4-turbo-preview\")"
   ]
  },
  {
   "cell_type": "code",
   "execution_count": 5,
   "metadata": {},
   "outputs": [],
   "source": [
    "import json\n",
    "from typing import Dict, Any\n",
    "import os\n",
    "import sys\n",
    "from APIs.combinedapi import PubMedProcessor\n",
    "\n",
    "@tool\n",
    "async def pubmed_paperqa(query: str) -> Dict[str, Any]:\n",
    "    \"\"\" Searches PubmedCentral for papers using a query\n",
    "    and returns the most relevant chunks using paperQA\"\"\"\n",
    "\n",
    "    max_attempts = 2\n",
    "    max_results: int = 4\n",
    "    pubmed_query = query\n",
    "    doc_query = query\n",
    "    email = \"sanazkazemi@hotmail.com\"\n",
    "    print(f\"pubmed_paperqa called with query: {query}, max_results: {max_results}\")\n",
    "\n",
    "    \n",
    "    pubmed_instance = PubMedProcessor(email)\n",
    "\n",
    "    # some error handeling in case the API call fails the algorithm will continue.\n",
    "    results_dict = {}\n",
    "    for attempt in range(max_attempts):\n",
    "        try:\n",
    "            results_dict = await pubmed_instance.full_process(pubmed_query, doc_query, max_results)\n",
    "            break\n",
    "        except Exception as e:\n",
    "            print(f\"Error in attempt {attempt+1}: {e}\")\n",
    "\n",
    "    if results_dict is None:\n",
    "        print(\"All API call attempts failed. Continuing with empty results.\")\n",
    "        results_dict = {\"error\": \"API calls failed\", \"results\": []}\n",
    "\n",
    "\n",
    "    # saving the refs to file because the LLM cant do it as it edits in paragraphs - has to be manually done\n",
    "\n",
    "    file_path = 'RATT_refs.json'\n",
    "\n",
    "    try:\n",
    "        if os.path.exists(file_path) and os.path.getsize(file_path) > 0:\n",
    "            with open(file_path, 'r') as f:\n",
    "                existing_data = json.load(f)\n",
    "        else:\n",
    "            existing_data = []\n",
    "    except json.JSONDecodeError:\n",
    "        print(\"Error reading existing data. Starting with empty list.\")\n",
    "\n",
    "        existing_data = []\n",
    "\n",
    "    existing_data.append(results_dict)\n",
    "\n",
    "    with open(file_path, 'w') as f:\n",
    "        json.dump(existing_data, f, indent=4)\n",
    "\n",
    "                        \n",
    "    return json.dumps(results_dict, indent=4)"
   ]
  },
  {
   "cell_type": "code",
   "execution_count": 6,
   "metadata": {},
   "outputs": [
    {
     "name": "stdout",
     "output_type": "stream",
     "text": [
      "pubmed_paperqa\n",
      "Searches PubmedCentral for papers using a query\n",
      "   and returns the most relevant chunks using paperQA\n",
      "{'query': {'title': 'Query', 'type': 'string'}}\n"
     ]
    }
   ],
   "source": [
    "print(pubmed_paperqa.name)\n",
    "print(pubmed_paperqa.description)\n",
    "print(pubmed_paperqa.args)"
   ]
  },
  {
   "cell_type": "code",
   "execution_count": null,
   "metadata": {},
   "outputs": [],
   "source": [
    "from langchain_core.messages import HumanMessage, ToolMessage\n",
    "from langchain_core.output_parsers. import PydanticToolsParser\n",
    "from langchain_core.prompts import ChatPromptTemplate, MessagesPlaceholder\n",
    "from langchain_core.pydantic_v1 import BaseModel, Field, ValidationError\n",
    "\n",
    "\n",
    "class Reflection(BaseModel):\n",
    "    missing: str = Field(description=\"Critique of what is missing.\")\n",
    "    superfluous: str = Field(description=\"Critique of what is superfluous\")\n",
    "\n",
    "\n",
    "class AnswerQuestion(BaseModel):\n",
    "    \"\"\"Answer the question. Provide an answer, reflection, and then follow up with search queries to improve the answer.\"\"\"\n",
    "\n",
    "    answer: str = Field(description=\"~250 word detailed answer to the question.\")\n",
    "    reflection: Reflection = Field(description=\"Your reflection on the initial answer.\")\n",
    "    search_queries: list[str] = Field(\n",
    "        description=\"1-3 search queries for researching improvements to address the critique of your current answer.\"\n",
    "    )\n",
    "\n",
    "\n",
    "class ResponderWithRetries:\n",
    "    def __init__(self, runnable, validator):\n",
    "        self.runnable = runnable\n",
    "        self.validator = validator\n",
    "\n",
    "    def respond(self, state: list):\n",
    "        response = []\n",
    "        for attempt in range(3):\n",
    "            response = self.runnable.invoke(\n",
    "                {\"messages\": state}, {\"tags\": [f\"attempt:{attempt}\"]}\n",
    "            )\n",
    "            try:\n",
    "                self.validator.invoke(response)\n",
    "                return response\n",
    "            except ValidationError as e:\n",
    "                state = state + [\n",
    "                    response,\n",
    "                    ToolMessage(\n",
    "                        content=f\"{repr(e)}\\n\\nPay close attention to the function schema.\\n\\n\"\n",
    "                        + self.validator.schema_json()\n",
    "                        + \" Respond by fixing all validation errors.\",\n",
    "                        tool_call_id=response.tool_calls[0][\"id\"],\n",
    "                    ),\n",
    "                ]\n",
    "        return response"
   ]
  }
 ],
 "metadata": {
  "kernelspec": {
   "display_name": "LLM_agent",
   "language": "python",
   "name": "python3"
  },
  "language_info": {
   "codemirror_mode": {
    "name": "ipython",
    "version": 3
   },
   "file_extension": ".py",
   "mimetype": "text/x-python",
   "name": "python",
   "nbconvert_exporter": "python",
   "pygments_lexer": "ipython3",
   "version": "3.12.4"
  }
 },
 "nbformat": 4,
 "nbformat_minor": 2
}
