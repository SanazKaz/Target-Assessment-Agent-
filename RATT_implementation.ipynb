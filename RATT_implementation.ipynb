{
 "cells": [
  {
   "cell_type": "code",
   "execution_count": null,
   "metadata": {},
   "outputs": [],
   "source": [
    "import nest_asyncio\n",
    "nest_asyncio.apply()\n",
    "import asyncio  # Add this import\n",
    "\n",
    "import os\n",
    "import agentops\n",
    "from dotenv import load_dotenv\n",
    "import json\n",
    "import autogen\n",
    "import tempfile\n",
    "from autogen.coding import LocalCommandLineCodeExecutor\n",
    "from autogen import GroupChat\n",
    "import weave\n",
    "from APIs.combinedapi import PubMedProcessor\n",
    "\n",
    "\n",
    "# Load environment variables from .env file\n",
    "\n",
    "load_dotenv()\n",
    "\n",
    " # Import the PubMedAPI class for literature search\n",
    "\n",
    "\n",
    "openai_api_key = os.getenv(\"OPENAI_API_KEY\")\n",
    "\n",
    "# Load the config list from JSON\n",
    "llm_config ={\n",
    "        \"model\": \"gpt-4o-mini\",\n",
    "        \"temperature\": 0.3, # temperature controls the randomness of the output in sampling\n",
    "        \"api_key\": openai_api_key, \n",
    "        \"top_p\": 1.0, # exceeds predefined probability threshold also known as nucleus sampling\n",
    "        #\"top_k\": 40, # controls the size of the model's vocabulary\n",
    "    }\n",
    "\n",
    "SAR_config = {\n",
    "        \"model\": \"gpt-4o-mini\",\n",
    "        \"temperature\": 0.3, # temperature controls the randomness of the output in sampling\n",
    "        \"api_key\": openai_api_key,\n",
    "        \"top_p\": 1.0, # exceeds predefined probability threshold also known as nucleus sampling\n",
    "        }\n"
   ]
  },
  {
   "cell_type": "code",
   "execution_count": null,
   "metadata": {},
   "outputs": [],
   "source": []
  },
  {
   "cell_type": "code",
   "execution_count": null,
   "metadata": {},
   "outputs": [],
   "source": []
  }
 ],
 "metadata": {
  "kernelspec": {
   "display_name": "LLM_agent",
   "language": "python",
   "name": "python3"
  },
  "language_info": {
   "name": "python",
   "version": "3.12.4"
  }
 },
 "nbformat": 4,
 "nbformat_minor": 2
}
